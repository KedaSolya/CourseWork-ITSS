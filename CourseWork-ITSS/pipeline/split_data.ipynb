{
 "cells": [
  {
   "cell_type": "code",
   "execution_count": 1,
   "id": "19b4e7ca",
   "metadata": {},
   "outputs": [],
   "source": [
    "import pandas as pd\n",
    "import numpy as np\n",
    "import matplotlib.pyplot as plt\n",
    "import seaborn as sns\n",
    "from scipy import stats\n",
    "\n",
    "import warnings\n",
    "warnings.simplefilter('ignore')\n",
    "\n",
    "pd.set_option('display.max_columns', 500)\n",
    "pd.set_option('display.max_rows', 500)"
   ]
  },
  {
   "cell_type": "code",
   "execution_count": 2,
   "id": "49a9210f",
   "metadata": {},
   "outputs": [],
   "source": [
    "ds = pd.read_csv(\"../data/students_exams_scores.csv\")"
   ]
  },
  {
   "cell_type": "code",
   "execution_count": 3,
   "id": "b58b22da",
   "metadata": {},
   "outputs": [],
   "source": [
    "ds.drop(ds.columns[ds.columns.str.contains('unnamed',case = False)],axis = 1, inplace = True)\n",
    "ds['AverageScore'] = ds[['MathScore', 'ReadingScore', 'WritingScore']].mean(axis=1)\n",
    "ds['Passed'] = ds['AverageScore'].apply(lambda x: 1 if x > 50 else 0)\n",
    "ds = ds.drop(['ParentMaritalStatus', 'TransportMeans'], axis=1)"
   ]
  },
  {
   "cell_type": "code",
   "execution_count": 4,
   "id": "2f042ac9",
   "metadata": {},
   "outputs": [],
   "source": [
    "from sklearn.model_selection import train_test_split"
   ]
  },
  {
   "cell_type": "code",
   "execution_count": 5,
   "id": "4b4acbbf",
   "metadata": {},
   "outputs": [],
   "source": [
    "X_columns = [\n",
    " 'Gender',\n",
    " 'EthnicGroup',\n",
    " 'ParentEduc',\n",
    " 'LunchType',\n",
    " 'TestPrep',\n",
    " 'PracticeSport',\n",
    " 'IsFirstChild',\n",
    " 'NrSiblings',\n",
    " 'WklyStudyHours',\n",
    " 'MathScore',\n",
    " 'ReadingScore',\n",
    " 'WritingScore',\n",
    " 'AverageScore',\n",
    " 'Passed']"
   ]
  },
  {
   "cell_type": "code",
   "execution_count": 6,
   "id": "1d56beca",
   "metadata": {},
   "outputs": [],
   "source": [
    "X_train, X_test = train_test_split(ds, train_size=0.9, random_state=42)"
   ]
  },
  {
   "cell_type": "code",
   "execution_count": 8,
   "id": "c0526a51",
   "metadata": {},
   "outputs": [
    {
     "name": "stdout",
     "output_type": "stream",
     "text": [
      "(27576, 14)\n"
     ]
    }
   ],
   "source": [
    "print(X_train.shape)\n",
    "X_train.to_csv('../data/train_data.csv', index=False)"
   ]
  },
  {
   "cell_type": "code",
   "execution_count": 9,
   "id": "01a5490c",
   "metadata": {},
   "outputs": [
    {
     "name": "stdout",
     "output_type": "stream",
     "text": [
      "(3065, 14)\n"
     ]
    }
   ],
   "source": [
    "print(X_test.shape)\n",
    "X_test[X_columns].to_csv('../data/new_data.csv', index=False)"
   ]
  }
 ],
 "metadata": {
  "kernelspec": {
   "display_name": "Python 3 (ipykernel)",
   "language": "python",
   "name": "python3"
  },
  "language_info": {
   "codemirror_mode": {
    "name": "ipython",
    "version": 3
   },
   "file_extension": ".py",
   "mimetype": "text/x-python",
   "name": "python",
   "nbconvert_exporter": "python",
   "pygments_lexer": "ipython3",
   "version": "3.11.2"
  }
 },
 "nbformat": 4,
 "nbformat_minor": 5
}
